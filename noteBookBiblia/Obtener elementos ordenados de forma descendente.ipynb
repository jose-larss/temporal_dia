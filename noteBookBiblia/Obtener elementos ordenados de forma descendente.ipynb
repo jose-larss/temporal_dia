{
 "cells": [
  {
   "cell_type": "code",
   "execution_count": 1,
   "id": "cf0894a3",
   "metadata": {},
   "outputs": [
    {
     "name": "stdout",
     "output_type": "stream",
     "text": [
      "Soraya\n",
      "Patricia\n",
      "Miguel\n",
      "Aurelia\n"
     ]
    }
   ],
   "source": [
    "import findspark\n",
    "findspark.init()\n",
    "from pyspark import SparkContext\n",
    "sc=SparkContext(master=\"local\",appName=\"Spark demo\")\n",
    "\n",
    "nombres = sc.parallelize (\n",
    "   [\"Andrea\", \n",
    "   \"Alex\", \n",
    "   \"Soraya\", \n",
    "   \"Aurelia\", \n",
    "   \"Patricia\",\n",
    "   \"Miguel\", \n",
    "   \"Alex\"]\n",
    ").top(4)\n",
    "for dato in nombres:\n",
    "    print(dato)"
   ]
  }
 ],
 "metadata": {
  "kernelspec": {
   "display_name": "Python 3 (ipykernel)",
   "language": "python",
   "name": "python3"
  },
  "language_info": {
   "codemirror_mode": {
    "name": "ipython",
    "version": 3
   },
   "file_extension": ".py",
   "mimetype": "text/x-python",
   "name": "python",
   "nbconvert_exporter": "python",
   "pygments_lexer": "ipython3",
   "version": "3.8.0"
  }
 },
 "nbformat": 4,
 "nbformat_minor": 5
}
