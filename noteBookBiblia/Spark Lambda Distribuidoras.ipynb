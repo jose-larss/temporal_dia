{
 "cells": [
  {
   "cell_type": "code",
   "execution_count": 4,
   "id": "708852c8",
   "metadata": {},
   "outputs": [
    {
     "name": "stdout",
     "output_type": "stream",
     "text": [
      "Ditribuidor: 20TH CENTURY FOX\n",
      "Ditribuidor: SONY PICTURES\n",
      "Ditribuidor: BUENA VISTA INTERNACIONAL\n",
      "Ditribuidor: LAUREN FILMS\n",
      "Ditribuidor: TRIPICTURES\n",
      "Ditribuidor: FILMAX\n",
      "Ditribuidor: MANGA FILMS\n",
      "Ditribuidor: PIXAR\n",
      "Ditribuidor: WARNER BROTHERS\n"
     ]
    }
   ],
   "source": [
    "import findspark\n",
    "findspark.init()\n",
    "from pyspark import SparkContext\n",
    "from pyspark.sql import SQLContext\n",
    "from pyspark.sql import Row\n",
    "from pyspark.sql import SparkSession\n",
    "\n",
    "sqlc = SparkSession.builder.getOrCreate()\n",
    "\n",
    "#sc = SparkContext('local', 'Spark SQL') \n",
    "#sqlc = SQLContext(sc)\n",
    "# Cargamos el fichero de texto y convertimos cada línea en una fila\n",
    "lines = sc.textFile(\"C:\\\\APACHESPARK\\\\Distribuidoras.txt\")\n",
    "partes = lines.map(lambda l: l.split(\",\"))\n",
    "filaDatos = partes.map(lambda p: Row(nombre=p[0], tlf=int(p[1]), web=p[2]))\n",
    "\n",
    "# Extraemos el esquema y registrar el DataFrame como una tabla.\n",
    "schemaDatos = sqlc.createDataFrame(filaDatos)\n",
    "schemaDatos.createOrReplaceTempView(\"distribuidoras\")\n",
    "\n",
    "# Ejecutamos la instrucción SQL sobre el DataFrame\n",
    "datos = sqlc.sql(\"SELECT nombre,tlf,web FROM distribuidoras\")\n",
    "\n",
    "\n",
    "# rdd devuelve el dato como row\n",
    "nombresDistribuidoras = datos.rdd.map(lambda p: \"Ditribuidor: \" + p.nombre).collect()\n",
    "\n",
    "# Tambien podemos recoger todos los datos\n",
    "#nombresDistribuidoras = datos.rdd.map(lambda p: \"Ditribuidor: \" + p.nombre + \" Teléfono: \" + str(p.tlf) + \n",
    "#\" Web: \" + p.web).collect()\n",
    "for nomb in nombresDistribuidoras:\n",
    "    print(nomb)"
   ]
  }
 ],
 "metadata": {
  "kernelspec": {
   "display_name": "Python 3 (ipykernel)",
   "language": "python",
   "name": "python3"
  },
  "language_info": {
   "codemirror_mode": {
    "name": "ipython",
    "version": 3
   },
   "file_extension": ".py",
   "mimetype": "text/x-python",
   "name": "python",
   "nbconvert_exporter": "python",
   "pygments_lexer": "ipython3",
   "version": "3.8.0"
  }
 },
 "nbformat": 4,
 "nbformat_minor": 5
}
