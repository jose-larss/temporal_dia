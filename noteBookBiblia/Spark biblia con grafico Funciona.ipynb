{
 "cells": [
  {
   "cell_type": "code",
   "execution_count": 3,
   "id": "5019c87d",
   "metadata": {},
   "outputs": [],
   "source": [
    "import findspark\n",
    "findspark.init()\n",
    "from pyspark import SparkContext\n",
    "from operator import add\n",
    "import pandas as pd\n",
    "sc=SparkContext(master=\"local\",appName=\"Spark demo\")\n",
    "lineas = sc.textFile(\"c:\\\\APACHESPARK\\\\BIBLIA.txt\") # usamos la función textFile para subir el texto a Spark\n",
    "\n",
    "# Mapeamos las funciones para realizar la cuenta de las palabras y generamos el RDD.\n",
    "cuenta = lineas.flatMap(lambda x: x.split(' ')) \\\n",
    "                  .map(lambda x: (x.replace(',' , '').upper(), 1)) \\\n",
    "                  .reduceByKey(add)\n",
    "# Creamos la lista con las palabras y su respectiva frecuencia.\n",
    "\n",
    "lista = cuenta.collect()\n",
    "# Creamos un DataFrame de Pandas para facilitar el manejo de los datos.\n",
    "dataframe = pd.DataFrame(lista, columns=['palabras', 'cuenta'])\n",
    "#print(dataframe)\n",
    "# Nos quedamos solo con las palabras que hacen referencia a Dios\n",
    "god = dataframe[dataframe['palabras'].apply(lambda x: x.upper() in ['GOD', 'LORD', 'JESUS', 'FATHER'])]\n",
    "#print(god)\n",
    "# Realizamos un gráfico de barras sobre los datos\n",
    "god.set_index('palabras').plot(kind = 'bar')"
   ]
  }
 ],
 "metadata": {
  "kernelspec": {
   "display_name": "Python 3 (ipykernel)",
   "language": "python",
   "name": "python3"
  },
  "language_info": {
   "codemirror_mode": {
    "name": "ipython",
    "version": 3
   },
   "file_extension": ".py",
   "mimetype": "text/x-python",
   "name": "python",
   "nbconvert_exporter": "python",
   "pygments_lexer": "ipython3",
   "version": "3.8.0"
  }
 },
 "nbformat": 4,
 "nbformat_minor": 5
}
