{
 "cells": [
  {
   "cell_type": "code",
   "execution_count": 2,
   "id": "983a01ce",
   "metadata": {},
   "outputs": [
    {
     "name": "stdout",
     "output_type": "stream",
     "text": [
      "['Borramos líneas en blanco', 'HOLA']\n"
     ]
    }
   ],
   "source": [
    "import findspark\n",
    "findspark.init()\n",
    "from pyspark import SparkContext\n",
    "sc=SparkContext(master=\"local\",appName=\"Spark demo\")\n",
    "\n",
    "rdd_text = sc.parallelize(['Borramos líneas en blanco', '', '', '', '','HOLA'])\n",
    "rdd_aux = rdd_text.filter(lambda x : x != '')\n",
    "print (rdd_aux.collect())"
   ]
  }
 ],
 "metadata": {
  "kernelspec": {
   "display_name": "Python 3 (ipykernel)",
   "language": "python",
   "name": "python3"
  },
  "language_info": {
   "codemirror_mode": {
    "name": "ipython",
    "version": 3
   },
   "file_extension": ".py",
   "mimetype": "text/x-python",
   "name": "python",
   "nbconvert_exporter": "python",
   "pygments_lexer": "ipython3",
   "version": "3.8.0"
  }
 },
 "nbformat": 4,
 "nbformat_minor": 5
}
